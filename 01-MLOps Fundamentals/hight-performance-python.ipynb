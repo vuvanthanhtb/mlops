{
 "cells": [
  {
   "cell_type": "markdown",
   "metadata": {},
   "source": [
    "### Multi-Process One-Thread"
   ]
  },
  {
   "cell_type": "code",
   "execution_count": 2,
   "metadata": {},
   "outputs": [],
   "source": [
    "import multiprocessing\n",
    "from multiprocessing import Process"
   ]
  },
  {
   "cell_type": "code",
   "execution_count": 3,
   "metadata": {},
   "outputs": [
    {
     "name": "stdout",
     "output_type": "stream",
     "text": [
      "Number of available CPU cores: 24\n"
     ]
    }
   ],
   "source": [
    "# Check number of available CPU cores\n",
    "print(f\"Number of available CPU cores: {multiprocessing.cpu_count()}\")"
   ]
  },
  {
   "cell_type": "code",
   "execution_count": 5,
   "metadata": {},
   "outputs": [],
   "source": [
    "import pandas as pd\n",
    "from time import time, sleep\n",
    "\n",
    "# Example of a processing function\n",
    "def process_dataframe(chunk_id, chunk_data: pd.DataFrame):\n",
    "    print(f\"Processing chunk {chunk_id} with {len(chunk_data)} rows\")\n",
    "    sleep(5)\n",
    "    print(f\"The chunk {chunk_id} has been processed\")"
   ]
  },
  {
   "cell_type": "code",
   "execution_count": 11,
   "metadata": {},
   "outputs": [
    {
     "name": "stdout",
     "output_type": "stream",
     "text": [
      "Number of chunks: 3\n",
      "Process ID: 30163\n",
      "Processing chunk 0 with 2 rows\n",
      "Process ID: 30166\n",
      "Processing chunk 1 with 2 rows\n",
      "Processing chunk 2 with 2 rows\n",
      "Process ID: 30171\n",
      "The chunk 0 has been processed\n",
      "The chunk 1 has been processedThe chunk 2 has been processed\n",
      "\n",
      "Total elapsed time: 5.03 seconds\n"
     ]
    }
   ],
   "source": [
    "# Make a sample DataFrame\n",
    "data = [\n",
    "    ['tom',  10], ['nick',  15],\n",
    "    ['juli',  14], ['peter',  20],\n",
    "    ['jason',  27], ['anna',  11],\n",
    "]\n",
    "\n",
    "# Create a DataFrame\n",
    "df = pd.DataFrame(data, columns=['Name', 'Age'])\n",
    "\n",
    "# Devide the DataFrame into chunks\n",
    "chunk_size = 2\n",
    "chunks = [df[i:i + chunk_size].to_numpy() for i in range(0, df.shape[0], chunk_size)]\n",
    "print(f\"Number of chunks: {len(chunks)}\")\n",
    "\n",
    "# Mark the stating point the measure the time\n",
    "start_time = time()\n",
    "\n",
    "procs = []\n",
    "\n",
    "\n",
    "for i, chunk in enumerate(chunks):\n",
    "    # Create a new process for each chunk\n",
    "    proc = Process(target=process_dataframe, args=(i, chunk))\n",
    "\n",
    "    # Start the process\n",
    "    proc.start()\n",
    "\n",
    "    # Investigate the process id\n",
    "    print(f\"Process ID: {proc.pid}\")\n",
    "\n",
    "    # Manage all processes definitions in a list\n",
    "    procs.append(proc)\n",
    "\n",
    "# Stop all processes to prevent resource scarcity\n",
    "for proc in procs:\n",
    "    proc.join() # Wait for the process to finish\n",
    "\n",
    "# Report total elaspsed time\n",
    "print(f\"Total elapsed time: {time() - start_time:.2f} seconds\")"
   ]
  }
 ],
 "metadata": {
  "kernelspec": {
   "display_name": "mlops",
   "language": "python",
   "name": "python3"
  },
  "language_info": {
   "codemirror_mode": {
    "name": "ipython",
    "version": 3
   },
   "file_extension": ".py",
   "mimetype": "text/x-python",
   "name": "python",
   "nbconvert_exporter": "python",
   "pygments_lexer": "ipython3",
   "version": "3.9.21"
  }
 },
 "nbformat": 4,
 "nbformat_minor": 2
}
