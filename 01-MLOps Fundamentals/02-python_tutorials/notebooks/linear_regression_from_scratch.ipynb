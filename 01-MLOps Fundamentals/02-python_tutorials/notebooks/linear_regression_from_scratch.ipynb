{
 "cells": [
  {
   "cell_type": "markdown",
   "id": "73cd82b7-b7df-41fc-ae0f-9841a96edc7c",
   "metadata": {},
   "source": [
    "# Linear Regression from scratch"
   ]
  },
  {
   "cell_type": "markdown",
   "id": "0c57b9b2-558c-4cba-9fc9-786caca6dcec",
   "metadata": {},
   "source": [
    "In this notebook, we are going to implement Linear Regression from scratch, but before that, you will need to be familar with NumPy, which is a popular library for working with matrix operations."
   ]
  },
  {
   "cell_type": "markdown",
   "id": "bf2c6b8b-b89a-489b-b3d7-af1e52a3213a",
   "metadata": {},
   "source": [
    "## Basics of NumPy"
   ]
  },
  {
   "cell_type": "code",
   "execution_count": 4,
   "id": "41a402cd-19ac-4c4d-af99-384de6c9d714",
   "metadata": {},
   "outputs": [],
   "source": [
    "import numpy as np"
   ]
  },
  {
   "cell_type": "code",
   "execution_count": 5,
   "id": "5e9408f9-d082-43df-bc53-85eea13bfc30",
   "metadata": {},
   "outputs": [],
   "source": [
    "# There are several ways to create a numpy array\n",
    "\n",
    "# 1. Create from list\n",
    "# In this case, a list of list will be converted into a 2D array\n",
    "a1 = np.array([[1, 2, 3], [4, 5, 6]])\n",
    "\n",
    "# 2. Create from tuple\n",
    "a2 = np.array(\n",
    "    (\n",
    "        (2, 3, 4),\n",
    "        (8, 9, 10),\n",
    "    )\n",
    ")\n",
    "\n",
    "# 3. Create a random array with np.random.*\n",
    "# For example: from uniform distribution with shape (4, 5)\n",
    "a3 = np.random.rand(4, 5)\n",
    "\n",
    "# 4. Create matrix full of 1 or 0 with np.zeros or np.ones\n",
    "# For example: A full-of-one matrix with shape (4, 5)\n",
    "a4 = np.ones((4, 5))"
   ]
  },
  {
   "cell_type": "code",
   "execution_count": 6,
   "id": "b435ce14-a004-4308-a396-5c72bc60c4b5",
   "metadata": {},
   "outputs": [
    {
     "name": "stdout",
     "output_type": "stream",
     "text": [
      "a1 + a2:\n",
      "[[ 3  5  7]\n",
      " [12 14 16]]\n",
      "********************\n",
      "\n",
      "a1 - a2:\n",
      "[[-1 -1 -1]\n",
      " [-4 -4 -4]]\n",
      "********************\n",
      "\n",
      "Transpose of a1:\n",
      "[[1 4]\n",
      " [2 5]\n",
      " [3 6]]\n",
      "********************\n",
      "\n",
      "a1 * a2:\n",
      "[[ 2  6 12]\n",
      " [32 45 60]]\n",
      "[[ 2  6 12]\n",
      " [32 45 60]]\n",
      "********************\n",
      "\n",
      "Matrix product of a1 and a2:\n",
      "[[ 20  56]\n",
      " [ 47 137]]\n",
      "[[ 20  56]\n",
      " [ 47 137]]\n",
      "********************\n",
      "\n",
      "Square of a1:\n",
      "[[ 1  4  9]\n",
      " [16 25 36]]\n",
      "********************\n",
      "\n"
     ]
    }
   ],
   "source": [
    "# How to do matrix operations\n",
    "\n",
    "# 1. Sum\n",
    "print(\"a1 + a2:\")\n",
    "print(a1 + a2)\n",
    "print(\"*\" * 20 + \"\\n\")\n",
    "\n",
    "# 2. Minus\n",
    "print(\"a1 - a2:\")\n",
    "print(a1 - a2)\n",
    "print(\"*\" * 20 + \"\\n\")\n",
    "\n",
    "# 3. Transpose\n",
    "print(\"Transpose of a1:\")\n",
    "print(a1.T)\n",
    "print(\"*\" * 20 + \"\\n\")\n",
    "\n",
    "# 4. Element-wise multiplication\n",
    "print(\"a1 * a2:\")\n",
    "print(a1 * a2)\n",
    "print(np.multiply(a1, a2))\n",
    "print(\"*\" * 20 + \"\\n\")\n",
    "\n",
    "# 5. Matrix product\n",
    "print(\"Matrix product of a1 and a2:\")\n",
    "print(np.matmul(a1, a2.T))\n",
    "print(np.dot(a1, a2.T))\n",
    "print(\"*\" * 20 + \"\\n\")\n",
    "\n",
    "# 6. Square\n",
    "print(\"Square of a1:\")\n",
    "print(a1**2)\n",
    "print(\"*\" * 20 + \"\\n\")"
   ]
  },
  {
   "cell_type": "markdown",
   "id": "d8b6c87d-a780-4c9d-bb51-246995ddf340",
   "metadata": {},
   "source": [
    "## Linear Regression"
   ]
  },
  {
   "cell_type": "markdown",
   "id": "a4afb4c5-28be-43c4-aaca-dc5730490705",
   "metadata": {},
   "source": [
    "Enough basics for now, let's implement Linear Regression."
   ]
  },
  {
   "cell_type": "code",
   "execution_count": 7,
   "id": "c903238f-001b-44f3-b5b8-a2fa251a2c3b",
   "metadata": {},
   "outputs": [],
   "source": [
    "from sklearn import datasets\n",
    "\n",
    "# Create a fake linear dataset\n",
    "X, y, coef = datasets.make_regression(\n",
    "    n_samples=100,  # number of samples\n",
    "    n_features=1,  # number of features\n",
    "    noise=10,  # add some noise\n",
    "    coef=True,  # return the coef used for generating data\n",
    "    random_state=42,\n",
    ")  # set for same data points for each run"
   ]
  },
  {
   "cell_type": "code",
   "execution_count": 8,
   "id": "34bd746f-8d96-4199-900e-1a47e2265abb",
   "metadata": {},
   "outputs": [
    {
     "data": {
      "image/png": "[encoded data removed]",
      "text/plain": [
       "<Figure size 640x480 with 1 Axes>"
      ]
     },
     "metadata": {},
     "output_type": "display_data"
    }
   ],
   "source": [
    "import matplotlib.pyplot as plt\n",
    "\n",
    "# Declare the function which has been used to generate the data,\n",
    "# which is y = ax, with a is the coef variable above\n",
    "f = lambda x: coef * x\n",
    "\n",
    "# Visualize our dataset using the matplotlib library\n",
    "plt.plot(X, y, \".\", color=\"blue\")\n",
    "plt.plot(X, f(X), color=\"orange\")\n",
    "plt.xlabel(\"X\")\n",
    "plt.ylabel(\"y\")\n",
    "\n",
    "plt.show()"
   ]
  },
  {
   "cell_type": "markdown",
   "id": "3f00ca53-18a0-4ce6-a5ca-f5f7844cfedc",
   "metadata": {},
   "source": [
    "The idea of applying linear regression is to draw a straight line `near` the above orange line. We will talk about what `near` really means right now ;)."
   ]
  },
  {
   "cell_type": "markdown",
   "id": "4682faa5-cdab-4662-b311-9ec561e75389",
   "metadata": {},
   "source": [
    "A linear regression model is basically a function `f(x1, x2, ...) = a*x1 + b*x2 + ... + n`. What happened behind the term `training the model` is to find a suitable collection of parameters `(a, b, ..., n)`, so that the result of the function `f` for an arbitrary coordinate `(x1, x2, ...)` close to the result of the real function (e.g, the above orange line is the real function behind the fake dataset). \n",
    "\n",
    "To be more clear, let's consider a more concrete example. Imagine that we are looking for a house, and find a very beautiful one online, but the price is hidden. Luckily, you can see 2 attributes of the house, which are `area (in sq ft.)` and `the number of floors`, and you want to predict the price based on these little information. What you can do now is to set up a function `f` so that the result of this function is close to the real price of the house. Sound good?\n",
    "\n",
    "But how to set it up? \n",
    "\n",
    "Let's see the code ;)"
   ]
  },
  {
   "cell_type": "code",
   "execution_count": 9,
   "id": "c86d8efd-50e1-4706-b43b-138199ffc42f",
   "metadata": {},
   "outputs": [],
   "source": [
    "class LinearRegression:\n",
    "    def __init__(self, learning_rate=0.01, iterations=100):\n",
    "        # Hyperparameters are needed to select before hand\n",
    "        self.lr = learning_rate\n",
    "        self.iterations = iterations\n",
    "\n",
    "        # Parameters will be discovered during training\n",
    "        self.weights = None  # This is (a, b, ...)\n",
    "        self.bias = None  # This is n (the one is not multipled with any x)\n",
    "\n",
    "    def fit(self, X, y):\n",
    "        num_samples, num_features = X.shape\n",
    "\n",
    "        # Initialize parameters with 0\n",
    "        self.weights = np.zeros(num_features)\n",
    "        self.bias = 0\n",
    "\n",
    "        # Apply gradient descent optimization algorithm\n",
    "        # to find the real weights and bias\n",
    "        for _ in range(self.iterations):\n",
    "            # This one is equal to y = ax1 + bx2 + ... + n.\n",
    "            # In each iteration, the weights and bias will be changed,\n",
    "            # so that we will get another predicted y\n",
    "            y_pred = np.dot(X, self.weights) + self.bias\n",
    "\n",
    "            # Using the predicted y to update weights and bias\n",
    "            dw = (1 / num_features) * np.dot(X.T, (y_pred - y))\n",
    "            db = (1 / num_features) * np.sum(y_pred - y)\n",
    "\n",
    "            self.weights -= self.lr * dw\n",
    "            self.bias -= self.lr * db\n",
    "\n",
    "    def predict(self, X):\n",
    "        y_pred = np.dot(X, self.weights) + self.bias\n",
    "        return y_pred"
   ]
  },
  {
   "cell_type": "code",
   "execution_count": 10,
   "id": "8b48e385-3778-43ed-9aed-544d021078e5",
   "metadata": {},
   "outputs": [],
   "source": [
    "# Time for training our model\n",
    "clf = LinearRegression()\n",
    "clf.fit(X, y)"
   ]
  },
  {
   "cell_type": "code",
   "execution_count": 13,
   "id": "53645a94-1dd2-4717-84ab-a4b7eb0f8b5f",
   "metadata": {},
   "outputs": [
    {
     "data": {
      "image/png": "[encoded data removed]",
      "text/plain": [
       "<Figure size 640x480 with 1 Axes>"
      ]
     },
     "metadata": {},
     "output_type": "display_data"
    }
   ],
   "source": [
    "import matplotlib.pyplot as plt\n",
    "\n",
    "# Declare the groundtruth (true) function\n",
    "f_gt = lambda x: coef * x\n",
    "\n",
    "# Declare our derived (predicted) function\n",
    "f_pred = lambda x: clf.predict(x)\n",
    "\n",
    "# Visualize our dataset using the matplotlib library\n",
    "plt.plot(X, y, \".\")\n",
    "plt.plot(X, f_gt(X), color=\"orange\", label=\"groundtruth\")\n",
    "plt.plot(X, f_pred(X), color=\"green\", label=\"prediction\")\n",
    "plt.xlabel(\"X\")\n",
    "plt.ylabel(\"y\")\n",
    "plt.legend()\n",
    "\n",
    "plt.show()"
   ]
  },
  {
   "cell_type": "markdown",
   "id": "a485192f-5f63-47f4-a13d-4bd387e89383",
   "metadata": {},
   "source": [
    "Pretty close to the real function! Now, try using a different `learning rate` or `iterations` hyperparameters to see if we can get a better result. This step is called tuning.\n",
    "\n",
    "Most of the ML algorithms follow the same principle as the above. Each algorithm is considered as a function, and we want to find the parameters for this by using an optimization algorithm (for example, `gradient descent` in the above example). ML Researchers' jobs are often related to how to design the function and the optimization algorithm."
   ]
  }
 ],
 "metadata": {
  "kernelspec": {
   "display_name": "mlops",
   "language": "python",
   "name": "python3"
  },
  "language_info": {
   "codemirror_mode": {
    "name": "ipython",
    "version": 3
   },
   "file_extension": ".py",
   "mimetype": "text/x-python",
   "name": "python",
   "nbconvert_exporter": "python",
   "pygments_lexer": "ipython3",
   "version": "3.9.21"
  }
 },
 "nbformat": 4,
 "nbformat_minor": 5
}
